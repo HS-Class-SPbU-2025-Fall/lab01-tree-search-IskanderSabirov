{
  "cells": [
    {
      "cell_type": "markdown",
      "metadata": {
        "id": "TQtmGru0a_ug"
      },
      "source": [
        "# Uninformed Tree Search Without Duplicates Detection\n",
        "\n",
        "In this lab, you will implement basic tree search methods without duplicate detection:\n",
        "\n",
        "- ***BFS (Breadth First Search)***\n",
        "- ***DFS (Depth First Search)***\n",
        "- ***DFS-L (Depth First Search with Limited Depth)***\n",
        "- ***DFID (Depth First Iterative Deepening)***.\n",
        "\n",
        "You will work with two widespread domains:\n",
        "- ***15-puzzle***\n",
        "- ***Panckakes***.\n",
        "\n",
        "For the ***15-puzzle***, the code that defines `state` and `get_successors` is already available. For Pancakes, you will need to code it yourself. All search methods must be implemented by you using the provided code stubs.\n",
        "\n",
        "Run every cell of the notebook and complete the described tasks. Good luck!"
      ]
    },
    {
      "cell_type": "code",
      "execution_count": 2,
      "metadata": {
        "id": "U6Gs2_s3a_uh"
      },
      "outputs": [],
      "source": [
        "import copy\n",
        "from pathlib import Path\n",
        "from collections import deque\n",
        "from typing import List, Callable\n",
        "\n",
        "import numpy as np"
      ]
    },
    {
      "cell_type": "markdown",
      "metadata": {
        "id": "d3CFi2Noa_ui"
      },
      "source": [
        "## Gem Puzzle (15-puzzle or n-puzzle)\n",
        "\n",
        "The ***15-puzzle*** (also called ***Gem Puzzle***, Boss Puzzle, Game of Fifteen, Mystic Square and many others) is a sliding puzzle that consists of a frame of numbered square tiles in random order with one tile missing (the so-called blank tile).\n",
        "\n",
        "The size of the puzzle may vary. E.g. if the size of the field is $3\\times3$, the puzzle is called the 8-puzzle, and if the size of the field is $4 \\times 4$, the puzzle is called the 15-puzzle.\n",
        "\n",
        "The task is to place the tiles in order (see the figure below) by sliding them. Indeed, you can slide a tile only to an adjacent blank tile, which is why one can think of it as actually sliding the blank tile.\n",
        "\n",
        "Note, that half of the initial configurations for the n-puzzle are impossible to resolve, no matter how many moves are made. See [[Wikipedia](https://en.wikipedia.org/wiki/15_puzzle)] for more info."
      ]
    },
    {
      "cell_type": "markdown",
      "metadata": {
        "tags": [],
        "id": "RS1udyzna_ui"
      },
      "source": [
        "![puzzle](img/gem_puzzle.png)"
      ]
    },
    {
      "cell_type": "markdown",
      "metadata": {
        "id": "cm2_CSNUa_ui"
      },
      "source": [
        "### Representation of a search state for the Gem Puzzle\n",
        "\n",
        "Indeed, there may exist many ways to represent a search state for the Gem Puzzle. In this lab, we will use a list of integers as an external encoding of the Gem Puzzle state. This list is assumed to contain numbers from 1 to (*size* * *size*), where *size* is the size of the puzzle. The tile with the number *size* * *size* is a blank tile.\n",
        "\n",
        "For example, the encoding of the start state of the 8-puzzle depicted above will be \\[7,2,4,5,9,6,8,3,1\\].\n",
        "\n",
        "Internally, we will use a 2-dimensional numpy array to store puzzle states.\n"
      ]
    },
    {
      "cell_type": "code",
      "execution_count": 65,
      "metadata": {
        "id": "GSSe0BfEa_ui"
      },
      "outputs": [],
      "source": [
        "class GemPuzzleState:\n",
        "    \"\"\"\n",
        "    Implementing a search state (or simply, a state) in code is a crucial first step\n",
        "    necessary for tackling any search problem. The `GemPuzzleState` class is structured\n",
        "    with the following fields:\n",
        "\n",
        "    Attributes\n",
        "    ----------\n",
        "    size : int\n",
        "        Width of the game field.\n",
        "\n",
        "    tile_matrix : ndarray[int, ndim=2]\n",
        "        Tile positions represented as a 2D array of integers. This array is expected\n",
        "        to contain values from `1` to `size * size`. Each integer value corresponds\n",
        "        to a tile, and the position in the array (row and column) corresponds to the\n",
        "        position of the tile on the game field. The tile with the value `size * size`\n",
        "        is assumed to represent the blank position.\n",
        "\n",
        "    parent : GemPuzzleState\n",
        "        A pointer to the parent state. The parent is a predecessor of the state in\n",
        "        the search tree. It is used to reconstruct a path to that state from the start\n",
        "        state (the root of the search tree).\n",
        "\n",
        "    blank_pos : ndarray[int, ndim=1]\n",
        "        The position (row and column) of the empty tile in tile_matrix. Explicitly\n",
        "        storing the position of a blank helps to generate successors faster.\n",
        "    \"\"\"\n",
        "\n",
        "    def __init__(self, tile_list: List[int]):\n",
        "        \"\"\"\n",
        "        Constructor. Sets tile positions and performs some basic checks.\n",
        "\n",
        "        Parameters\n",
        "        ----------\n",
        "        tile_list : List[int]\n",
        "            Tile positions represented as a list of integers. This list is expected to contain\n",
        "            values from `1` to `size * size`. Each integer value corresponds to a tile, and\n",
        "            the position in the list (index) corresponds to the position of the tile on the game field.\n",
        "            The tile with the value `size * size` is assumed to represent the blank position.\n",
        "        \"\"\"\n",
        "        self.size = int(len(tile_list) ** 0.5)\n",
        "        blank_value = self.size**2\n",
        "        if blank_value != len(tile_list):\n",
        "            raise ValueError(\n",
        "                \"The tile list must contain the number of elements equal to the square of an integer!\"\n",
        "            )\n",
        "\n",
        "        self.tile_matrix = np.array(tile_list, dtype=np.int16).reshape(\n",
        "            (self.size, self.size)\n",
        "        )\n",
        "\n",
        "        # Memorizing the position of a blank tile\n",
        "        # Technically, there is no need to do so,\n",
        "        # but it makes getting the successors a bit faster\n",
        "        blanks = np.argwhere(self.tile_matrix == blank_value)\n",
        "        if len(blanks) != 1:\n",
        "            raise ValueError(\n",
        "                \"The state should contain a single maximum value representing the blank tile position.\"\n",
        "            )\n",
        "        self.blank_pos = blanks[0]\n",
        "\n",
        "        # The parent state (predecessor in the search tree) will be set up by the search algorithm.\n",
        "        self.parent = None\n",
        "        self.state = self.tile_matrix.flatten()\n",
        "        self.needed_state =  np.arange(1, self.size**2 + 1)\n",
        "\n",
        "    def __eq__(self, other):\n",
        "        \"\"\"\n",
        "        Compare one state with another state.\n",
        "        \"\"\"\n",
        "        return np.array_equal(self.tile_matrix, other.tile_matrix)\n",
        "\n",
        "    def __str__(self) -> str:\n",
        "        \"\"\"\n",
        "        Return a string representation of the game field for printing.\n",
        "        \"\"\"\n",
        "        blank_value = self.size**2\n",
        "        result = (\n",
        "            str(self.tile_matrix)\n",
        "            .replace(\" [\", \"\")\n",
        "            .replace(\"[\", \"\")\n",
        "            .replace(\"]\", \"\")\n",
        "            .replace(str(blank_value), \"_\")\n",
        "            + \"\\n\"\n",
        "        )\n",
        "        return result"
      ]
    },
    {
      "cell_type": "markdown",
      "metadata": {
        "id": "x3NWsHk7a_uj"
      },
      "source": [
        "### Get Succesors"
      ]
    },
    {
      "cell_type": "code",
      "execution_count": 4,
      "metadata": {
        "id": "lnqA0nBZa_uj"
      },
      "outputs": [],
      "source": [
        "def get_successors(state: GemPuzzleState) -> List[GemPuzzleState]:\n",
        "    \"\"\"\n",
        "    Implementing the `get_successors` function is another crucial step in tackling any search problem.\n",
        "    This function is designed to take a specific search state as input and return all possible successor states,\n",
        "    which result from applying all applicable actions to the input state. In the case of GemPuzzle, the successors\n",
        "    correspond to the board states resulting from moving the blank tile up, down, left, or right. If the blank tile\n",
        "    goes out of the field after a move, such a successor should be discarded.\n",
        "\n",
        "    Parameters\n",
        "    ----------\n",
        "    state : GemPuzzleState\n",
        "        The input search state.\n",
        "\n",
        "    Returns\n",
        "    -------\n",
        "    List[GemPuzzleState]\n",
        "        A list containing all possible successor states for the input state.\n",
        "    \"\"\"\n",
        "    successors = []\n",
        "    row, col = state.blank_pos\n",
        "    delta = [(0, 1), (1, 0), (0, -1), (-1, 0)]\n",
        "    for dx, dy in delta:\n",
        "        # Compute new column and row for the blank tile\n",
        "        new_row, new_col = row + dx, col + dy\n",
        "\n",
        "        # If the new position of the blank tile is valid (i.e., it is still within the field), then\n",
        "        # a corresponding successor should be added to the successors' list\n",
        "        if 0 <= new_row < state.size and 0 <= new_col < state.size:\n",
        "            new_state = copy.deepcopy(state)\n",
        "            new_state.tile_matrix[row, col] = new_state.tile_matrix[new_row, new_col]\n",
        "            new_state.tile_matrix[new_row, new_col] = new_state.size**2\n",
        "            new_state.blank_pos = (new_row, new_col)\n",
        "            new_state.parent = state\n",
        "            successors.append(new_state)\n",
        "\n",
        "    return successors"
      ]
    },
    {
      "cell_type": "markdown",
      "metadata": {
        "id": "9T7YpMmGa_uj"
      },
      "source": [
        "### Goal check"
      ]
    },
    {
      "cell_type": "code",
      "execution_count": 5,
      "metadata": {
        "id": "MX4Cc7nla_uj"
      },
      "outputs": [],
      "source": [
        "def state_is_goal(state: GemPuzzleState):\n",
        "    \"\"\"\n",
        "    A handy function that returns `True` if the input `state` corresponds\n",
        "    to the goal state (i.e., all tiles are in their correct positions), and `False` otherwise.\n",
        "    \"\"\"\n",
        "    goal_list = np.arange(1, state.size**2 + 1).reshape(state.size, state.size)\n",
        "    return np.array_equal(state.tile_matrix, goal_list)"
      ]
    },
    {
      "cell_type": "markdown",
      "metadata": {
        "id": "ic0gtm8Aa_uj"
      },
      "source": [
        "### Path checking"
      ]
    },
    {
      "cell_type": "code",
      "execution_count": 6,
      "metadata": {
        "id": "rNnSvmk3a_uj"
      },
      "outputs": [],
      "source": [
        "def check_path(last_state):\n",
        "    \"\"\"\n",
        "    Auxiliary function that takes the `last_state` and checks whether this state is a goal.\n",
        "    If yes, it unwinds the path using the backpointers and checks whether each successor is\n",
        "    reachable from its predecessor.\n",
        "    \"\"\"\n",
        "    curr = last_state\n",
        "    if not state_is_goal(curr):\n",
        "        print(\"Goal was not reached!\")\n",
        "        return False\n",
        "\n",
        "    while curr.parent is not None:\n",
        "        prev = curr.parent\n",
        "        if curr not in get_successors(prev):\n",
        "            print(\"Unacceptable step!\")\n",
        "            return False\n",
        "        curr = prev\n",
        "    return True"
      ]
    },
    {
      "cell_type": "markdown",
      "metadata": {
        "id": "oXppPPqOa_uj"
      },
      "source": [
        "### Path unwinding\n",
        "Typically the paths are not stored within a search explicitly, but rather implicitly via the parent pointers (pointing to the predecessor in the search tree). Thus, when we reach the goal state and want to reconstruct the whole path we need to trace the parent pointers back to the root of the tree."
      ]
    },
    {
      "cell_type": "code",
      "execution_count": 7,
      "metadata": {
        "id": "ngoxS4Cwa_uj"
      },
      "outputs": [],
      "source": [
        "def get_path(last_state: GemPuzzleState):\n",
        "    \"\"\"\n",
        "    Takes an input state `last_state` and returns a path to this state from the root of the tree.\n",
        "    \"\"\"\n",
        "    path = []\n",
        "    curr = last_state\n",
        "    while curr is not None:\n",
        "        path.append(curr)\n",
        "        curr = curr.parent\n",
        "    return path"
      ]
    },
    {
      "cell_type": "markdown",
      "metadata": {
        "id": "Z7G027VVa_uj"
      },
      "source": [
        "## Automated Tests to Check the Implementations of the Search Algorithms\n",
        "When you finish implementing search algorithms you need to test them, right? The following functions will help you in that. They take your search algorithm as an input and run it on a single simple test (`simple_test`) and on a series of more involved tests (`massive_test`).\n",
        "\n",
        "These automated tests assume that the seach function, passed as the input, has the following structure:\n",
        "\n",
        "`search_function(start_state, *optional arguments*) -> (path_found, last_state)`, where\n",
        "\n",
        "- `start_state` — initial state\n",
        "- `*optional arguments*` — additional parameters of the search function (if needed), passed via `*args`\n",
        "- `path_found` — result of the search, `True` if path was found, `False` otherwise\n",
        "- `last_state` — last state of path. `None` if path was not found"
      ]
    },
    {
      "cell_type": "code",
      "execution_count": 66,
      "metadata": {
        "id": "lte3-XsKa_uj"
      },
      "outputs": [],
      "source": [
        "def _run_test(\n",
        "    search_function: Callable, state, needed_state, *args, task_idx: int = 0, print_path: bool = True\n",
        "):\n",
        "    \"\"\"\n",
        "    Execute a test using the specified search function on the given state.\n",
        "\n",
        "    Parameters\n",
        "    ----------\n",
        "    search_function : Callable\n",
        "        The search function to be tested.\n",
        "    state\n",
        "        The initial state for the test.\n",
        "    *args\n",
        "        Additional arguments for the search function.\n",
        "    task_idx : int, optional\n",
        "        The index of the task being tested (default is 0).\n",
        "    print_path : bool, optional\n",
        "        If True, print the path found by the search function (default is True).\n",
        "\n",
        "    Returns\n",
        "    -------\n",
        "    None\n",
        "    \"\"\"\n",
        "    try:\n",
        "        path_found, curr = search_function(state, needed_state, *args)\n",
        "        if not path_found:\n",
        "            print(f\"Task #{task_idx}: path not found :(\")\n",
        "            return\n",
        "        if check_path(curr):\n",
        "            path = get_path(curr)\n",
        "            print(f\"Task #{task_idx}: path is OK! Path length: {len(path)}\")\n",
        "            if not print_path:\n",
        "                return\n",
        "            while len(path) != 0:\n",
        "                print(path.pop())\n",
        "        else:\n",
        "            print(f\"Task #{task_idx}: path is not OK :(\")\n",
        "\n",
        "    except Exception as e:\n",
        "        print(f\"Task #{task_idx}: execution error {e}\")"
      ]
    },
    {
      "cell_type": "code",
      "execution_count": 67,
      "metadata": {
        "id": "w99pfM0ua_uk"
      },
      "outputs": [],
      "source": [
        "def simple_test(search_function: Callable, *args, **kwargs):\n",
        "    \"\"\"\n",
        "    The `simple_test` function runs the `search_function` on a simple 2 x 2 sliding\n",
        "    puzzle instance (encoded as [3, 1, 2, 4]).\n",
        "\n",
        "    Parameters\n",
        "    ----------\n",
        "    search_function : Callable\n",
        "        Implementation of the search method.\n",
        "    *args\n",
        "        Additional arguments for the search function.\n",
        "    **kwargs\n",
        "        Additional keyword arguments for the search function.\n",
        "\n",
        "    Possible Outputs:\n",
        "    - 'path is OK!':\n",
        "        A path was found, and it is correct.\n",
        "    - 'path is not OK :(':\n",
        "        A path was found, but it is not correct.\n",
        "    - 'path not found :(':\n",
        "        A path was not found.\n",
        "    - 'execution error':\n",
        "        An error occurred while executing the `search_function` or path validation function.\n",
        "\n",
        "    Additional Parameters (optional):\n",
        "    - task_idx : int, optional\n",
        "        The index of the task being tested (default is 0).\n",
        "    - print_path : bool, optional\n",
        "        If True, print the path found by the search function (default is True).\n",
        "    \"\"\"\n",
        "    start_state = GemPuzzleState([3, 1, 2, 4])\n",
        "    needed_state = GemPuzzleState([1, 2, 3, 4])\n",
        "    _run_test(search_function, start_state, needed_state, *args, **kwargs)"
      ]
    },
    {
      "cell_type": "code",
      "execution_count": 68,
      "metadata": {
        "id": "tBYmEgs_a_uk"
      },
      "outputs": [],
      "source": [
        "def massive_test(search_function: Callable, *args, **kwargs):\n",
        "    \"\"\"\n",
        "    The `massive_test` function runs the `search_function` on a set of different tasks stored in `data/tasks_gem.txt`.\n",
        "    Initially, this file contains 4 different 2 x 2 sliding puzzle instances and 4 different 3 x 3\n",
        "    sliding puzzle instances (more can be added if desired). Each instance starts on a new line and\n",
        "    is represented as a sequence of integers separated by spaces.\n",
        "\n",
        "    The output is similar to `simple_test`, but explicit paths for the solved instances are not displayed:\n",
        "\n",
        "    Possible Outputs:\n",
        "    - 'path is OK!':\n",
        "        A path was found, and it is correct.\n",
        "    - 'path is not OK :(':\n",
        "        A path was found, but it is not correct.\n",
        "    - 'path not found :(':\n",
        "        A path was not found.\n",
        "    - 'execution error':\n",
        "        An error occurred while executing the `search_function` or path validation function.\n",
        "\n",
        "    Parameters\n",
        "    ----------\n",
        "    search_function : Callable\n",
        "        Implementation of the search method.\n",
        "    *args\n",
        "        Additional arguments for the search function.\n",
        "    **kwargs\n",
        "        Additional keyword arguments for the search function.\n",
        "        - print_path : bool, optional\n",
        "            If True, print the path found by the search function (default is False).\n",
        "    \"\"\"\n",
        "    with open(Path(\"data/tasks_gem.txt\")) as tasks_file:\n",
        "        print_path = kwargs.pop(\"print_path\", False)\n",
        "        for count, line in enumerate(tasks_file):\n",
        "            state = list(map(int, line.split()))\n",
        "            task = GemPuzzleState(state)\n",
        "            needed = GemPuzzleState(np.arange(1, task.size**2 + 1))\n",
        "            _run_test(\n",
        "                search_function, task, needed, task_idx=count + 1, print_path=print_path, *args\n",
        "            )"
      ]
    },
    {
      "cell_type": "markdown",
      "metadata": {
        "id": "GVv1vK6ba_uk"
      },
      "source": [
        "## Search Algorithms Implementation\n",
        "\n",
        "\n",
        "Recall again here that *dublicate detection must not be coded* in this assignment."
      ]
    },
    {
      "cell_type": "markdown",
      "metadata": {
        "id": "nSHbCy0ja_uk"
      },
      "source": [
        "### Breadth-First Search (BFS)"
      ]
    },
    {
      "cell_type": "code",
      "execution_count": 124,
      "metadata": {
        "tags": [],
        "id": "LBnR-26Ma_uk"
      },
      "outputs": [],
      "source": [
        "def bfs(start, needed_state):\n",
        "    \"\"\"\n",
        "    Implementation of Breadth-First Search algorithm.\n",
        "    Returns (path_found, last_state).\n",
        "    \"\"\"\n",
        "    # in case target and start are same\n",
        "    if start == needed_state:\n",
        "      return True, needed_state\n",
        "\n",
        "    stack = [start]\n",
        "\n",
        "    while stack:\n",
        "      cur_state = stack.pop(0)\n",
        "\n",
        "      if needed_state == cur_state:\n",
        "        return True, cur_state\n",
        "\n",
        "      # add new states from current to the end of list\n",
        "      stack += get_successors(cur_state)\n",
        "\n",
        "    return False, None"
      ]
    },
    {
      "cell_type": "code",
      "execution_count": 70,
      "metadata": {
        "tags": [],
        "colab": {
          "base_uri": "https://localhost:8080/"
        },
        "id": "6I2xBNFma_uk",
        "outputId": "26ab78f8-e5c4-4957-b4f8-ed9bcbd801ee",
        "collapsed": true
      },
      "outputs": [
        {
          "output_type": "stream",
          "name": "stdout",
          "text": [
            "Task #0: path is OK! Path length: 5\n",
            "3 1\n",
            "2 _\n",
            "\n",
            "3 1\n",
            "_ 2\n",
            "\n",
            "_ 1\n",
            "3 2\n",
            "\n",
            "1 _\n",
            "3 2\n",
            "\n",
            "1 2\n",
            "3 _\n",
            "\n"
          ]
        }
      ],
      "source": [
        "# Test your BFS on simple task\n",
        "simple_test(bfs)"
      ]
    },
    {
      "cell_type": "code",
      "execution_count": 71,
      "metadata": {
        "tags": [],
        "colab": {
          "base_uri": "https://localhost:8080/"
        },
        "id": "LMahcWqfa_uk",
        "outputId": "c83d1d78-2eb3-4644-e9c0-77a9be85b0ba"
      },
      "outputs": [
        {
          "output_type": "stream",
          "name": "stdout",
          "text": [
            "Task #1: path is OK! Path length: 5\n",
            "Task #2: path is OK! Path length: 5\n",
            "Task #3: path is OK! Path length: 3\n",
            "Task #4: path is OK! Path length: 4\n",
            "Task #5: path is OK! Path length: 4\n",
            "Task #6: path is OK! Path length: 6\n",
            "Task #7: path is OK! Path length: 5\n",
            "Task #8: path is OK! Path length: 9\n"
          ]
        }
      ],
      "source": [
        "# If simple test is path_found, you should check your implementation in massive test.\n",
        "# The rest of the search algorithms are checked in the same way.\n",
        "massive_test(bfs)"
      ]
    },
    {
      "cell_type": "markdown",
      "metadata": {
        "id": "61HjqHXMa_uk"
      },
      "source": [
        "### Depth-First Search (DFS)"
      ]
    },
    {
      "cell_type": "code",
      "execution_count": 74,
      "metadata": {
        "id": "bbvxE-iBa_uk"
      },
      "outputs": [],
      "source": [
        "def dfs(start, needed_state):\n",
        "    \"\"\"\n",
        "    Implementation of Depth-First Search algorithm.\n",
        "    Returns (path_found, last_state).\n",
        "    Warning: No duplicate detection. May recurse deeply.\n",
        "    \"\"\"\n",
        "\n",
        "    stack = [start]\n",
        "\n",
        "    while stack:\n",
        "      # take the 1st element\n",
        "      cur_state = stack.pop(0)\n",
        "\n",
        "      if needed_state == cur_state:\n",
        "          return True, cur_state\n",
        "\n",
        "      # get successors and add them to the beginning of the stack\n",
        "      successors = get_successors(cur_state)\n",
        "      stack = successors + stack\n",
        "\n",
        "    return False, None"
      ]
    },
    {
      "cell_type": "markdown",
      "metadata": {
        "id": "nJyh9jpda_uk"
      },
      "source": [
        "Using DFS, you will most likely encounter the fact that this algorithm overcomes the threshold of recursive calls, after which the execution will interrupted.\n",
        "\n",
        "Other unpleasant outcomes (e.g. dead kernel) are also possible."
      ]
    },
    {
      "cell_type": "code",
      "execution_count": 75,
      "metadata": {
        "tags": [],
        "colab": {
          "base_uri": "https://localhost:8080/"
        },
        "id": "FTl5764Pa_uk",
        "outputId": "7ef49f98-0efa-46bb-e089-9d0d9fb53d0b"
      },
      "outputs": [
        {
          "output_type": "stream",
          "name": "stdout",
          "text": [
            "Task #0: execution error maximum recursion depth exceeded\n"
          ]
        }
      ],
      "source": [
        "simple_test(dfs)"
      ]
    },
    {
      "cell_type": "code",
      "execution_count": null,
      "metadata": {
        "tags": [],
        "id": "_grF3FD_a_uk"
      },
      "outputs": [],
      "source": [
        "# There is no need to start MassiveTest\n",
        "# massive_test(dfs)"
      ]
    },
    {
      "cell_type": "markdown",
      "metadata": {
        "id": "1FlMDVKma_uk"
      },
      "source": [
        "But you can create such a simple task, which can be solved by DFS. So your task is to create an instance of the 8-puzzle that is solvable by DFS and the solution contains *at least 3 moves*."
      ]
    },
    {
      "cell_type": "code",
      "execution_count": 80,
      "metadata": {
        "id": "qDoNb29Va_uk"
      },
      "outputs": [],
      "source": [
        "def dfs_simple_test(search_function, *args):\n",
        "    # TODO: Create your simple test\n",
        "    your_tile_list = [1,4,3,2] # Created test when we win in 1 step\n",
        "    start_state = GemPuzzleState(your_tile_list)\n",
        "    needed_state = GemPuzzleState([1, 2, 3, 4])\n",
        "    _run_test(search_function, start_state, needed_state, print_path=True, *args)"
      ]
    },
    {
      "cell_type": "code",
      "execution_count": 81,
      "metadata": {
        "tags": [],
        "colab": {
          "base_uri": "https://localhost:8080/"
        },
        "id": "MbZsaUrDa_uk",
        "outputId": "aeba679d-0e1a-45cc-f1e7-62ce465ff16e"
      },
      "outputs": [
        {
          "output_type": "stream",
          "name": "stdout",
          "text": [
            "Task #0: path is OK! Path length: 2\n",
            "1 _\n",
            "3 2\n",
            "\n",
            "1 2\n",
            "3 _\n",
            "\n"
          ]
        }
      ],
      "source": [
        "dfs_simple_test(dfs)"
      ]
    },
    {
      "cell_type": "markdown",
      "metadata": {
        "id": "pgIgFkuHa_uk"
      },
      "source": [
        "### Depth-First Search (DFS) with Random Choice\n",
        "\n",
        "You may try to increase the chance of solving the input problem by randomizing the DFS. One way to do so is to recursively go deeper in the search tree not using the first successor returned by the (deterministic) get_succesors function, but rather by picking a random succesor.\n",
        "\n",
        "Indeed, this technique does not provide any guarantess and in practice it is likely to fail on numerous instances."
      ]
    },
    {
      "cell_type": "code",
      "execution_count": 125,
      "metadata": {
        "id": "aHWmH-wda_uk"
      },
      "outputs": [],
      "source": [
        "import random\n",
        "\n",
        "random.seed(42)\n",
        "\n",
        "def dfs_random(start, needed_state):\n",
        "    \"\"\"\n",
        "    Implementation of Depth-First Search with Random Choice algorithm.\n",
        "    Returns (path_found, last_state).\n",
        "    \"\"\"\n",
        "    stack = [start]\n",
        "\n",
        "    while stack:\n",
        "      # take the 1st element\n",
        "      cur_state = stack.pop(0)\n",
        "\n",
        "      if needed_state == cur_state:\n",
        "          return True, cur_state\n",
        "\n",
        "      # get successors\n",
        "      successors = get_successors(cur_state)\n",
        "      # random shuffle successors\n",
        "      random.shuffle(successors)\n",
        "      # add them to the beginning of the stack\n",
        "      stack = successors + stack\n",
        "\n",
        "    return False, None"
      ]
    },
    {
      "cell_type": "code",
      "execution_count": 83,
      "metadata": {
        "colab": {
          "base_uri": "https://localhost:8080/"
        },
        "collapsed": true,
        "id": "sEWtYlsDa_ul",
        "outputId": "5bb5a7e8-a6c8-43fa-ecc8-45fd05cb803f"
      },
      "outputs": [
        {
          "output_type": "stream",
          "name": "stdout",
          "text": [
            "Task #0: path is OK! Path length: 43\n",
            "3 1\n",
            "2 _\n",
            "\n",
            "3 _\n",
            "2 1\n",
            "\n",
            "_ 3\n",
            "2 1\n",
            "\n",
            "3 _\n",
            "2 1\n",
            "\n",
            "_ 3\n",
            "2 1\n",
            "\n",
            "2 3\n",
            "_ 1\n",
            "\n",
            "_ 3\n",
            "2 1\n",
            "\n",
            "2 3\n",
            "_ 1\n",
            "\n",
            "_ 3\n",
            "2 1\n",
            "\n",
            "3 _\n",
            "2 1\n",
            "\n",
            "_ 3\n",
            "2 1\n",
            "\n",
            "2 3\n",
            "_ 1\n",
            "\n",
            "_ 3\n",
            "2 1\n",
            "\n",
            "2 3\n",
            "_ 1\n",
            "\n",
            "_ 3\n",
            "2 1\n",
            "\n",
            "2 3\n",
            "_ 1\n",
            "\n",
            "_ 3\n",
            "2 1\n",
            "\n",
            "3 _\n",
            "2 1\n",
            "\n",
            "_ 3\n",
            "2 1\n",
            "\n",
            "3 _\n",
            "2 1\n",
            "\n",
            "3 1\n",
            "2 _\n",
            "\n",
            "3 _\n",
            "2 1\n",
            "\n",
            "_ 3\n",
            "2 1\n",
            "\n",
            "3 _\n",
            "2 1\n",
            "\n",
            "3 1\n",
            "2 _\n",
            "\n",
            "3 1\n",
            "_ 2\n",
            "\n",
            "_ 1\n",
            "3 2\n",
            "\n",
            "3 1\n",
            "_ 2\n",
            "\n",
            "3 1\n",
            "2 _\n",
            "\n",
            "3 _\n",
            "2 1\n",
            "\n",
            "_ 3\n",
            "2 1\n",
            "\n",
            "3 _\n",
            "2 1\n",
            "\n",
            "_ 3\n",
            "2 1\n",
            "\n",
            "3 _\n",
            "2 1\n",
            "\n",
            "3 1\n",
            "2 _\n",
            "\n",
            "3 1\n",
            "_ 2\n",
            "\n",
            "_ 1\n",
            "3 2\n",
            "\n",
            "1 _\n",
            "3 2\n",
            "\n",
            "_ 1\n",
            "3 2\n",
            "\n",
            "1 _\n",
            "3 2\n",
            "\n",
            "_ 1\n",
            "3 2\n",
            "\n",
            "1 _\n",
            "3 2\n",
            "\n",
            "1 2\n",
            "3 _\n",
            "\n",
            "Task #1: path is OK! Path length: 57\n",
            "3 1\n",
            "2 _\n",
            "\n",
            "3 _\n",
            "2 1\n",
            "\n",
            "_ 3\n",
            "2 1\n",
            "\n",
            "2 3\n",
            "_ 1\n",
            "\n",
            "_ 3\n",
            "2 1\n",
            "\n",
            "3 _\n",
            "2 1\n",
            "\n",
            "_ 3\n",
            "2 1\n",
            "\n",
            "2 3\n",
            "_ 1\n",
            "\n",
            "_ 3\n",
            "2 1\n",
            "\n",
            "3 _\n",
            "2 1\n",
            "\n",
            "3 1\n",
            "2 _\n",
            "\n",
            "3 1\n",
            "_ 2\n",
            "\n",
            "3 1\n",
            "2 _\n",
            "\n",
            "3 _\n",
            "2 1\n",
            "\n",
            "3 1\n",
            "2 _\n",
            "\n",
            "3 1\n",
            "_ 2\n",
            "\n",
            "_ 1\n",
            "3 2\n",
            "\n",
            "1 _\n",
            "3 2\n",
            "\n",
            "_ 1\n",
            "3 2\n",
            "\n",
            "3 1\n",
            "_ 2\n",
            "\n",
            "_ 1\n",
            "3 2\n",
            "\n",
            "3 1\n",
            "_ 2\n",
            "\n",
            "3 1\n",
            "2 _\n",
            "\n",
            "3 1\n",
            "_ 2\n",
            "\n",
            "3 1\n",
            "2 _\n",
            "\n",
            "3 _\n",
            "2 1\n",
            "\n",
            "3 1\n",
            "2 _\n",
            "\n",
            "3 _\n",
            "2 1\n",
            "\n",
            "_ 3\n",
            "2 1\n",
            "\n",
            "2 3\n",
            "_ 1\n",
            "\n",
            "2 3\n",
            "1 _\n",
            "\n",
            "2 3\n",
            "_ 1\n",
            "\n",
            "2 3\n",
            "1 _\n",
            "\n",
            "2 _\n",
            "1 3\n",
            "\n",
            "_ 2\n",
            "1 3\n",
            "\n",
            "2 _\n",
            "1 3\n",
            "\n",
            "_ 2\n",
            "1 3\n",
            "\n",
            "2 _\n",
            "1 3\n",
            "\n",
            "2 3\n",
            "1 _\n",
            "\n",
            "2 3\n",
            "_ 1\n",
            "\n",
            "_ 3\n",
            "2 1\n",
            "\n",
            "3 _\n",
            "2 1\n",
            "\n",
            "_ 3\n",
            "2 1\n",
            "\n",
            "2 3\n",
            "_ 1\n",
            "\n",
            "2 3\n",
            "1 _\n",
            "\n",
            "2 3\n",
            "_ 1\n",
            "\n",
            "2 3\n",
            "1 _\n",
            "\n",
            "2 3\n",
            "_ 1\n",
            "\n",
            "_ 3\n",
            "2 1\n",
            "\n",
            "2 3\n",
            "_ 1\n",
            "\n",
            "2 3\n",
            "1 _\n",
            "\n",
            "2 _\n",
            "1 3\n",
            "\n",
            "_ 2\n",
            "1 3\n",
            "\n",
            "1 2\n",
            "_ 3\n",
            "\n",
            "_ 2\n",
            "1 3\n",
            "\n",
            "1 2\n",
            "_ 3\n",
            "\n",
            "1 2\n",
            "3 _\n",
            "\n",
            "Task #2: path is OK! Path length: 13\n",
            "3 1\n",
            "2 _\n",
            "\n",
            "3 _\n",
            "2 1\n",
            "\n",
            "3 1\n",
            "2 _\n",
            "\n",
            "3 1\n",
            "_ 2\n",
            "\n",
            "3 1\n",
            "2 _\n",
            "\n",
            "3 1\n",
            "_ 2\n",
            "\n",
            "_ 1\n",
            "3 2\n",
            "\n",
            "3 1\n",
            "_ 2\n",
            "\n",
            "3 1\n",
            "2 _\n",
            "\n",
            "3 1\n",
            "_ 2\n",
            "\n",
            "_ 1\n",
            "3 2\n",
            "\n",
            "1 _\n",
            "3 2\n",
            "\n",
            "1 2\n",
            "3 _\n",
            "\n",
            "Task #3: path is OK! Path length: 25\n",
            "3 1\n",
            "2 _\n",
            "\n",
            "3 _\n",
            "2 1\n",
            "\n",
            "3 1\n",
            "2 _\n",
            "\n",
            "3 _\n",
            "2 1\n",
            "\n",
            "3 1\n",
            "2 _\n",
            "\n",
            "3 _\n",
            "2 1\n",
            "\n",
            "_ 3\n",
            "2 1\n",
            "\n",
            "3 _\n",
            "2 1\n",
            "\n",
            "_ 3\n",
            "2 1\n",
            "\n",
            "2 3\n",
            "_ 1\n",
            "\n",
            "2 3\n",
            "1 _\n",
            "\n",
            "2 _\n",
            "1 3\n",
            "\n",
            "_ 2\n",
            "1 3\n",
            "\n",
            "2 _\n",
            "1 3\n",
            "\n",
            "2 3\n",
            "1 _\n",
            "\n",
            "2 _\n",
            "1 3\n",
            "\n",
            "_ 2\n",
            "1 3\n",
            "\n",
            "2 _\n",
            "1 3\n",
            "\n",
            "2 3\n",
            "1 _\n",
            "\n",
            "2 _\n",
            "1 3\n",
            "\n",
            "_ 2\n",
            "1 3\n",
            "\n",
            "1 2\n",
            "_ 3\n",
            "\n",
            "_ 2\n",
            "1 3\n",
            "\n",
            "1 2\n",
            "_ 3\n",
            "\n",
            "1 2\n",
            "3 _\n",
            "\n",
            "Task #4: path is OK! Path length: 33\n",
            "3 1\n",
            "2 _\n",
            "\n",
            "3 _\n",
            "2 1\n",
            "\n",
            "_ 3\n",
            "2 1\n",
            "\n",
            "2 3\n",
            "_ 1\n",
            "\n",
            "2 3\n",
            "1 _\n",
            "\n",
            "2 _\n",
            "1 3\n",
            "\n",
            "2 3\n",
            "1 _\n",
            "\n",
            "2 3\n",
            "_ 1\n",
            "\n",
            "_ 3\n",
            "2 1\n",
            "\n",
            "2 3\n",
            "_ 1\n",
            "\n",
            "2 3\n",
            "1 _\n",
            "\n",
            "2 3\n",
            "_ 1\n",
            "\n",
            "2 3\n",
            "1 _\n",
            "\n",
            "2 3\n",
            "_ 1\n",
            "\n",
            "2 3\n",
            "1 _\n",
            "\n",
            "2 _\n",
            "1 3\n",
            "\n",
            "_ 2\n",
            "1 3\n",
            "\n",
            "1 2\n",
            "_ 3\n",
            "\n",
            "_ 2\n",
            "1 3\n",
            "\n",
            "2 _\n",
            "1 3\n",
            "\n",
            "_ 2\n",
            "1 3\n",
            "\n",
            "1 2\n",
            "_ 3\n",
            "\n",
            "_ 2\n",
            "1 3\n",
            "\n",
            "1 2\n",
            "_ 3\n",
            "\n",
            "_ 2\n",
            "1 3\n",
            "\n",
            "1 2\n",
            "_ 3\n",
            "\n",
            "_ 2\n",
            "1 3\n",
            "\n",
            "1 2\n",
            "_ 3\n",
            "\n",
            "_ 2\n",
            "1 3\n",
            "\n",
            "2 _\n",
            "1 3\n",
            "\n",
            "_ 2\n",
            "1 3\n",
            "\n",
            "1 2\n",
            "_ 3\n",
            "\n",
            "1 2\n",
            "3 _\n",
            "\n",
            "Task #5: path is OK! Path length: 13\n",
            "3 1\n",
            "2 _\n",
            "\n",
            "3 1\n",
            "_ 2\n",
            "\n",
            "_ 1\n",
            "3 2\n",
            "\n",
            "3 1\n",
            "_ 2\n",
            "\n",
            "3 1\n",
            "2 _\n",
            "\n",
            "3 _\n",
            "2 1\n",
            "\n",
            "3 1\n",
            "2 _\n",
            "\n",
            "3 1\n",
            "_ 2\n",
            "\n",
            "_ 1\n",
            "3 2\n",
            "\n",
            "3 1\n",
            "_ 2\n",
            "\n",
            "_ 1\n",
            "3 2\n",
            "\n",
            "1 _\n",
            "3 2\n",
            "\n",
            "1 2\n",
            "3 _\n",
            "\n",
            "Task #6: path is OK! Path length: 9\n",
            "3 1\n",
            "2 _\n",
            "\n",
            "3 1\n",
            "_ 2\n",
            "\n",
            "3 1\n",
            "2 _\n",
            "\n",
            "3 1\n",
            "_ 2\n",
            "\n",
            "_ 1\n",
            "3 2\n",
            "\n",
            "3 1\n",
            "_ 2\n",
            "\n",
            "_ 1\n",
            "3 2\n",
            "\n",
            "1 _\n",
            "3 2\n",
            "\n",
            "1 2\n",
            "3 _\n",
            "\n",
            "Task #7: path is OK! Path length: 45\n",
            "3 1\n",
            "2 _\n",
            "\n",
            "3 _\n",
            "2 1\n",
            "\n",
            "_ 3\n",
            "2 1\n",
            "\n",
            "2 3\n",
            "_ 1\n",
            "\n",
            "_ 3\n",
            "2 1\n",
            "\n",
            "3 _\n",
            "2 1\n",
            "\n",
            "_ 3\n",
            "2 1\n",
            "\n",
            "3 _\n",
            "2 1\n",
            "\n",
            "_ 3\n",
            "2 1\n",
            "\n",
            "3 _\n",
            "2 1\n",
            "\n",
            "3 1\n",
            "2 _\n",
            "\n",
            "3 _\n",
            "2 1\n",
            "\n",
            "_ 3\n",
            "2 1\n",
            "\n",
            "3 _\n",
            "2 1\n",
            "\n",
            "_ 3\n",
            "2 1\n",
            "\n",
            "2 3\n",
            "_ 1\n",
            "\n",
            "_ 3\n",
            "2 1\n",
            "\n",
            "2 3\n",
            "_ 1\n",
            "\n",
            "_ 3\n",
            "2 1\n",
            "\n",
            "2 3\n",
            "_ 1\n",
            "\n",
            "2 3\n",
            "1 _\n",
            "\n",
            "2 3\n",
            "_ 1\n",
            "\n",
            "2 3\n",
            "1 _\n",
            "\n",
            "2 _\n",
            "1 3\n",
            "\n",
            "2 3\n",
            "1 _\n",
            "\n",
            "2 _\n",
            "1 3\n",
            "\n",
            "_ 2\n",
            "1 3\n",
            "\n",
            "2 _\n",
            "1 3\n",
            "\n",
            "_ 2\n",
            "1 3\n",
            "\n",
            "2 _\n",
            "1 3\n",
            "\n",
            "2 3\n",
            "1 _\n",
            "\n",
            "2 3\n",
            "_ 1\n",
            "\n",
            "2 3\n",
            "1 _\n",
            "\n",
            "2 3\n",
            "_ 1\n",
            "\n",
            "2 3\n",
            "1 _\n",
            "\n",
            "2 _\n",
            "1 3\n",
            "\n",
            "_ 2\n",
            "1 3\n",
            "\n",
            "2 _\n",
            "1 3\n",
            "\n",
            "_ 2\n",
            "1 3\n",
            "\n",
            "1 2\n",
            "_ 3\n",
            "\n",
            "_ 2\n",
            "1 3\n",
            "\n",
            "2 _\n",
            "1 3\n",
            "\n",
            "_ 2\n",
            "1 3\n",
            "\n",
            "1 2\n",
            "_ 3\n",
            "\n",
            "1 2\n",
            "3 _\n",
            "\n",
            "Task #8: path is OK! Path length: 87\n",
            "3 1\n",
            "2 _\n",
            "\n",
            "3 _\n",
            "2 1\n",
            "\n",
            "_ 3\n",
            "2 1\n",
            "\n",
            "2 3\n",
            "_ 1\n",
            "\n",
            "_ 3\n",
            "2 1\n",
            "\n",
            "2 3\n",
            "_ 1\n",
            "\n",
            "_ 3\n",
            "2 1\n",
            "\n",
            "2 3\n",
            "_ 1\n",
            "\n",
            "2 3\n",
            "1 _\n",
            "\n",
            "2 _\n",
            "1 3\n",
            "\n",
            "_ 2\n",
            "1 3\n",
            "\n",
            "1 2\n",
            "_ 3\n",
            "\n",
            "_ 2\n",
            "1 3\n",
            "\n",
            "2 _\n",
            "1 3\n",
            "\n",
            "2 3\n",
            "1 _\n",
            "\n",
            "2 3\n",
            "_ 1\n",
            "\n",
            "_ 3\n",
            "2 1\n",
            "\n",
            "3 _\n",
            "2 1\n",
            "\n",
            "_ 3\n",
            "2 1\n",
            "\n",
            "3 _\n",
            "2 1\n",
            "\n",
            "3 1\n",
            "2 _\n",
            "\n",
            "3 _\n",
            "2 1\n",
            "\n",
            "3 1\n",
            "2 _\n",
            "\n",
            "3 1\n",
            "_ 2\n",
            "\n",
            "3 1\n",
            "2 _\n",
            "\n",
            "3 _\n",
            "2 1\n",
            "\n",
            "_ 3\n",
            "2 1\n",
            "\n",
            "3 _\n",
            "2 1\n",
            "\n",
            "_ 3\n",
            "2 1\n",
            "\n",
            "2 3\n",
            "_ 1\n",
            "\n",
            "_ 3\n",
            "2 1\n",
            "\n",
            "3 _\n",
            "2 1\n",
            "\n",
            "_ 3\n",
            "2 1\n",
            "\n",
            "3 _\n",
            "2 1\n",
            "\n",
            "_ 3\n",
            "2 1\n",
            "\n",
            "2 3\n",
            "_ 1\n",
            "\n",
            "2 3\n",
            "1 _\n",
            "\n",
            "2 3\n",
            "_ 1\n",
            "\n",
            "_ 3\n",
            "2 1\n",
            "\n",
            "3 _\n",
            "2 1\n",
            "\n",
            "3 1\n",
            "2 _\n",
            "\n",
            "3 _\n",
            "2 1\n",
            "\n",
            "3 1\n",
            "2 _\n",
            "\n",
            "3 _\n",
            "2 1\n",
            "\n",
            "_ 3\n",
            "2 1\n",
            "\n",
            "3 _\n",
            "2 1\n",
            "\n",
            "_ 3\n",
            "2 1\n",
            "\n",
            "2 3\n",
            "_ 1\n",
            "\n",
            "_ 3\n",
            "2 1\n",
            "\n",
            "3 _\n",
            "2 1\n",
            "\n",
            "3 1\n",
            "2 _\n",
            "\n",
            "3 _\n",
            "2 1\n",
            "\n",
            "3 1\n",
            "2 _\n",
            "\n",
            "3 _\n",
            "2 1\n",
            "\n",
            "3 1\n",
            "2 _\n",
            "\n",
            "3 1\n",
            "_ 2\n",
            "\n",
            "3 1\n",
            "2 _\n",
            "\n",
            "3 _\n",
            "2 1\n",
            "\n",
            "_ 3\n",
            "2 1\n",
            "\n",
            "3 _\n",
            "2 1\n",
            "\n",
            "3 1\n",
            "2 _\n",
            "\n",
            "3 _\n",
            "2 1\n",
            "\n",
            "_ 3\n",
            "2 1\n",
            "\n",
            "3 _\n",
            "2 1\n",
            "\n",
            "_ 3\n",
            "2 1\n",
            "\n",
            "3 _\n",
            "2 1\n",
            "\n",
            "_ 3\n",
            "2 1\n",
            "\n",
            "3 _\n",
            "2 1\n",
            "\n",
            "3 1\n",
            "2 _\n",
            "\n",
            "3 _\n",
            "2 1\n",
            "\n",
            "_ 3\n",
            "2 1\n",
            "\n",
            "2 3\n",
            "_ 1\n",
            "\n",
            "_ 3\n",
            "2 1\n",
            "\n",
            "2 3\n",
            "_ 1\n",
            "\n",
            "2 3\n",
            "1 _\n",
            "\n",
            "2 _\n",
            "1 3\n",
            "\n",
            "2 3\n",
            "1 _\n",
            "\n",
            "2 _\n",
            "1 3\n",
            "\n",
            "_ 2\n",
            "1 3\n",
            "\n",
            "2 _\n",
            "1 3\n",
            "\n",
            "2 3\n",
            "1 _\n",
            "\n",
            "2 _\n",
            "1 3\n",
            "\n",
            "2 3\n",
            "1 _\n",
            "\n",
            "2 _\n",
            "1 3\n",
            "\n",
            "_ 2\n",
            "1 3\n",
            "\n",
            "1 2\n",
            "_ 3\n",
            "\n",
            "1 2\n",
            "3 _\n",
            "\n",
            "Task #9: path is OK! Path length: 73\n",
            "3 1\n",
            "2 _\n",
            "\n",
            "3 1\n",
            "_ 2\n",
            "\n",
            "_ 1\n",
            "3 2\n",
            "\n",
            "3 1\n",
            "_ 2\n",
            "\n",
            "_ 1\n",
            "3 2\n",
            "\n",
            "3 1\n",
            "_ 2\n",
            "\n",
            "3 1\n",
            "2 _\n",
            "\n",
            "3 _\n",
            "2 1\n",
            "\n",
            "_ 3\n",
            "2 1\n",
            "\n",
            "3 _\n",
            "2 1\n",
            "\n",
            "3 1\n",
            "2 _\n",
            "\n",
            "3 _\n",
            "2 1\n",
            "\n",
            "3 1\n",
            "2 _\n",
            "\n",
            "3 _\n",
            "2 1\n",
            "\n",
            "_ 3\n",
            "2 1\n",
            "\n",
            "3 _\n",
            "2 1\n",
            "\n",
            "_ 3\n",
            "2 1\n",
            "\n",
            "3 _\n",
            "2 1\n",
            "\n",
            "_ 3\n",
            "2 1\n",
            "\n",
            "2 3\n",
            "_ 1\n",
            "\n",
            "2 3\n",
            "1 _\n",
            "\n",
            "2 3\n",
            "_ 1\n",
            "\n",
            "2 3\n",
            "1 _\n",
            "\n",
            "2 _\n",
            "1 3\n",
            "\n",
            "_ 2\n",
            "1 3\n",
            "\n",
            "1 2\n",
            "_ 3\n",
            "\n",
            "_ 2\n",
            "1 3\n",
            "\n",
            "2 _\n",
            "1 3\n",
            "\n",
            "2 3\n",
            "1 _\n",
            "\n",
            "2 3\n",
            "_ 1\n",
            "\n",
            "_ 3\n",
            "2 1\n",
            "\n",
            "3 _\n",
            "2 1\n",
            "\n",
            "3 1\n",
            "2 _\n",
            "\n",
            "3 1\n",
            "_ 2\n",
            "\n",
            "3 1\n",
            "2 _\n",
            "\n",
            "3 _\n",
            "2 1\n",
            "\n",
            "_ 3\n",
            "2 1\n",
            "\n",
            "3 _\n",
            "2 1\n",
            "\n",
            "_ 3\n",
            "2 1\n",
            "\n",
            "3 _\n",
            "2 1\n",
            "\n",
            "_ 3\n",
            "2 1\n",
            "\n",
            "2 3\n",
            "_ 1\n",
            "\n",
            "2 3\n",
            "1 _\n",
            "\n",
            "2 3\n",
            "_ 1\n",
            "\n",
            "2 3\n",
            "1 _\n",
            "\n",
            "2 3\n",
            "_ 1\n",
            "\n",
            "_ 3\n",
            "2 1\n",
            "\n",
            "3 _\n",
            "2 1\n",
            "\n",
            "_ 3\n",
            "2 1\n",
            "\n",
            "3 _\n",
            "2 1\n",
            "\n",
            "_ 3\n",
            "2 1\n",
            "\n",
            "3 _\n",
            "2 1\n",
            "\n",
            "_ 3\n",
            "2 1\n",
            "\n",
            "2 3\n",
            "_ 1\n",
            "\n",
            "2 3\n",
            "1 _\n",
            "\n",
            "2 3\n",
            "_ 1\n",
            "\n",
            "_ 3\n",
            "2 1\n",
            "\n",
            "3 _\n",
            "2 1\n",
            "\n",
            "3 1\n",
            "2 _\n",
            "\n",
            "3 _\n",
            "2 1\n",
            "\n",
            "3 1\n",
            "2 _\n",
            "\n",
            "3 1\n",
            "_ 2\n",
            "\n",
            "3 1\n",
            "2 _\n",
            "\n",
            "3 1\n",
            "_ 2\n",
            "\n",
            "3 1\n",
            "2 _\n",
            "\n",
            "3 1\n",
            "_ 2\n",
            "\n",
            "_ 1\n",
            "3 2\n",
            "\n",
            "3 1\n",
            "_ 2\n",
            "\n",
            "3 1\n",
            "2 _\n",
            "\n",
            "3 1\n",
            "_ 2\n",
            "\n",
            "_ 1\n",
            "3 2\n",
            "\n",
            "1 _\n",
            "3 2\n",
            "\n",
            "1 2\n",
            "3 _\n",
            "\n"
          ]
        }
      ],
      "source": [
        "for i in range(10):\n",
        "    simple_test(dfs_random, task_idx=i)"
      ]
    },
    {
      "cell_type": "markdown",
      "metadata": {
        "id": "9xKWdek_a_ul"
      },
      "source": [
        "### Depth First Search with Limited Depth\n",
        "One of the way to solve problem of overcoming the threshold of recursive calls is explicitly limit the to depth of the search tree by passing an appropriate parameter `limit` to the search algorithm. The second parameter `depth` is a technical one needed for the implementation. It represents the current depth of the search. Initially (when invoked on the start state of the problem) it is, indeed, equal to 0."
      ]
    },
    {
      "cell_type": "code",
      "execution_count": 84,
      "metadata": {
        "id": "50IhNt3Aa_ul"
      },
      "outputs": [],
      "source": [
        "def dfs_limited(start, needed_state, limit, depth):\n",
        "    \"\"\"\n",
        "    Implementation of Depth First Search with Limited Depth algorithm.\n",
        "    Returns (path_found, last_state).\n",
        "    \"\"\"\n",
        "\n",
        "    stack = [start]\n",
        "    depths = [0]\n",
        "\n",
        "    while stack:\n",
        "      # take the 1st element\n",
        "      cur_state = stack.pop(0)\n",
        "      cur_depth = depths.pop(0)\n",
        "\n",
        "      if needed_state == cur_state:\n",
        "          return True, cur_state\n",
        "\n",
        "      # end branch if it`s limit\n",
        "      if cur_depth == limit:\n",
        "        continue\n",
        "\n",
        "      # get successors\n",
        "      successors = get_successors(cur_state)\n",
        "      # add them to the beginning of the stack\n",
        "      stack = successors + stack\n",
        "      depths = [cur_depth + 1] * len(successors) + depths\n",
        "\n",
        "    return False, None"
      ]
    },
    {
      "cell_type": "markdown",
      "metadata": {
        "id": "wXwP-9v7a_ul"
      },
      "source": [
        "Let's check this approach with several different limits"
      ]
    },
    {
      "cell_type": "code",
      "execution_count": 85,
      "metadata": {
        "tags": [],
        "colab": {
          "base_uri": "https://localhost:8080/"
        },
        "id": "8rFkuKpSa_ul",
        "outputId": "516660bf-75bc-4be4-a9b2-2fc315b16215"
      },
      "outputs": [
        {
          "output_type": "stream",
          "name": "stdout",
          "text": [
            "Task #0: path not found :(\n"
          ]
        }
      ],
      "source": [
        "simple_test(dfs_limited, 3, 0)"
      ]
    },
    {
      "cell_type": "code",
      "execution_count": 86,
      "metadata": {
        "tags": [],
        "colab": {
          "base_uri": "https://localhost:8080/"
        },
        "collapsed": true,
        "id": "79asLVoqa_ul",
        "outputId": "9ef2f3c3-3877-4af5-feb2-03ade0df2298"
      },
      "outputs": [
        {
          "output_type": "stream",
          "name": "stdout",
          "text": [
            "Task #0: path is OK! Path length: 5\n",
            "3 1\n",
            "2 _\n",
            "\n",
            "3 1\n",
            "_ 2\n",
            "\n",
            "_ 1\n",
            "3 2\n",
            "\n",
            "1 _\n",
            "3 2\n",
            "\n",
            "1 2\n",
            "3 _\n",
            "\n"
          ]
        }
      ],
      "source": [
        "simple_test(dfs_limited, 5, 0)"
      ]
    },
    {
      "cell_type": "code",
      "execution_count": 87,
      "metadata": {
        "tags": [],
        "colab": {
          "base_uri": "https://localhost:8080/"
        },
        "collapsed": true,
        "id": "1dMqWCmQa_ut",
        "outputId": "c46ea898-6a9e-4dfb-9ebf-962e85e361ab"
      },
      "outputs": [
        {
          "output_type": "stream",
          "name": "stdout",
          "text": [
            "Task #0: path is OK! Path length: 11\n",
            "3 1\n",
            "2 _\n",
            "\n",
            "3 1\n",
            "_ 2\n",
            "\n",
            "3 1\n",
            "2 _\n",
            "\n",
            "3 1\n",
            "_ 2\n",
            "\n",
            "3 1\n",
            "2 _\n",
            "\n",
            "3 1\n",
            "_ 2\n",
            "\n",
            "3 1\n",
            "2 _\n",
            "\n",
            "3 1\n",
            "_ 2\n",
            "\n",
            "_ 1\n",
            "3 2\n",
            "\n",
            "1 _\n",
            "3 2\n",
            "\n",
            "1 2\n",
            "3 _\n",
            "\n"
          ]
        }
      ],
      "source": [
        "simple_test(dfs_limited, 10, 0)"
      ]
    },
    {
      "cell_type": "code",
      "execution_count": 88,
      "metadata": {
        "tags": [],
        "colab": {
          "base_uri": "https://localhost:8080/"
        },
        "id": "za5qylhWa_ut",
        "outputId": "0ab387cd-1bbd-4db9-d120-99b0e123a007"
      },
      "outputs": [
        {
          "output_type": "stream",
          "name": "stdout",
          "text": [
            "Task #1: path not found :(\n",
            "Task #2: path not found :(\n",
            "Task #3: path is OK! Path length: 3\n",
            "Task #4: path is OK! Path length: 4\n",
            "Task #5: path is OK! Path length: 4\n",
            "Task #6: path not found :(\n",
            "Task #7: path not found :(\n",
            "Task #8: path not found :(\n"
          ]
        }
      ],
      "source": [
        "massive_test(dfs_limited, 3, 0, print_path=False)"
      ]
    },
    {
      "cell_type": "code",
      "execution_count": 89,
      "metadata": {
        "tags": [],
        "colab": {
          "base_uri": "https://localhost:8080/"
        },
        "id": "NCYRD1YVa_ut",
        "outputId": "7f1abf4a-cdb2-4bfd-b6d2-0dc4b09aa5f1"
      },
      "outputs": [
        {
          "output_type": "stream",
          "name": "stdout",
          "text": [
            "Task #1: path is OK! Path length: 5\n",
            "Task #2: path is OK! Path length: 5\n",
            "Task #3: path is OK! Path length: 3\n",
            "Task #4: path is OK! Path length: 6\n",
            "Task #5: path is OK! Path length: 6\n",
            "Task #6: path is OK! Path length: 6\n",
            "Task #7: path is OK! Path length: 5\n",
            "Task #8: path not found :(\n"
          ]
        }
      ],
      "source": [
        "massive_test(dfs_limited, 5, 0)"
      ]
    },
    {
      "cell_type": "code",
      "execution_count": 90,
      "metadata": {
        "tags": [],
        "colab": {
          "base_uri": "https://localhost:8080/"
        },
        "id": "EPIOeZ4na_ut",
        "outputId": "91829739-8d4d-40e2-b3b3-0ee8a38d9911"
      },
      "outputs": [
        {
          "output_type": "stream",
          "name": "stdout",
          "text": [
            "Task #1: path is OK! Path length: 11\n",
            "Task #2: path is OK! Path length: 11\n",
            "Task #3: path is OK! Path length: 3\n",
            "Task #4: path is OK! Path length: 10\n",
            "Task #5: path is OK! Path length: 10\n",
            "Task #6: path is OK! Path length: 10\n",
            "Task #7: path is OK! Path length: 11\n",
            "Task #8: path is OK! Path length: 11\n"
          ]
        }
      ],
      "source": [
        "massive_test(dfs_limited, 10, 0)"
      ]
    },
    {
      "cell_type": "markdown",
      "metadata": {
        "id": "GTMNDJKFa_ut"
      },
      "source": [
        "### Depth First Iterative Deepening Search (DFID)\n",
        "Finally let's sequentially invoke DFS with increasing depth limits. This is called the Depth First Iterative Deepening algorithm. It will inded find a solution if one exists."
      ]
    },
    {
      "cell_type": "code",
      "execution_count": 126,
      "metadata": {
        "id": "vRAVQUkla_ut"
      },
      "outputs": [],
      "source": [
        "def dfid(start, needed_state):\n",
        "    \"\"\"\n",
        "    Implementation of Iterative-Deepening Depth-First Search.\n",
        "    Returns (path_found, last_state).\n",
        "    \"\"\"\n",
        "    cur_limit = 1\n",
        "    # path can`t be bigger than total states count: (size^2)!\n",
        "    total_limit = 1\n",
        "    for i in range(1, start.size ** 2 + 1):\n",
        "      total_limit *= i\n",
        "\n",
        "    while cur_limit < total_limit:\n",
        "      exist, path = dfs_limited(start, needed_state, cur_limit, 0)\n",
        "      if exist:\n",
        "        return True, path\n",
        "      else:\n",
        "        cur_limit += 1\n",
        "\n",
        "    return False, None"
      ]
    },
    {
      "cell_type": "code",
      "execution_count": 93,
      "metadata": {
        "tags": [],
        "colab": {
          "base_uri": "https://localhost:8080/"
        },
        "collapsed": true,
        "id": "GeaRswZda_uu",
        "outputId": "021f1732-41da-470e-cb8e-b2ad28c505a5"
      },
      "outputs": [
        {
          "output_type": "stream",
          "name": "stdout",
          "text": [
            "Task #0: path is OK! Path length: 5\n",
            "3 1\n",
            "2 _\n",
            "\n",
            "3 1\n",
            "_ 2\n",
            "\n",
            "_ 1\n",
            "3 2\n",
            "\n",
            "1 _\n",
            "3 2\n",
            "\n",
            "1 2\n",
            "3 _\n",
            "\n"
          ]
        }
      ],
      "source": [
        "simple_test(dfid)"
      ]
    },
    {
      "cell_type": "code",
      "execution_count": 94,
      "metadata": {
        "tags": [],
        "colab": {
          "base_uri": "https://localhost:8080/"
        },
        "id": "K5NVdGL2a_uu",
        "outputId": "a84c3a33-8c58-4cea-d21f-755fc8835b32",
        "collapsed": true
      },
      "outputs": [
        {
          "output_type": "stream",
          "name": "stdout",
          "text": [
            "Task #1: path is OK! Path length: 5\n",
            "Task #2: path is OK! Path length: 5\n",
            "Task #3: path is OK! Path length: 3\n",
            "Task #4: path is OK! Path length: 4\n",
            "Task #5: path is OK! Path length: 4\n",
            "Task #6: path is OK! Path length: 6\n",
            "Task #7: path is OK! Path length: 5\n",
            "Task #8: path is OK! Path length: 9\n"
          ]
        }
      ],
      "source": [
        "massive_test(dfid)"
      ]
    },
    {
      "cell_type": "markdown",
      "metadata": {
        "id": "xaaPHQ2Ka_uu"
      },
      "source": [
        "## Pancake Sorting"
      ]
    },
    {
      "cell_type": "markdown",
      "metadata": {
        "tags": [],
        "id": "mKuHVDuxa_uu"
      },
      "source": [
        "![Example](img/cat.jpg)"
      ]
    },
    {
      "cell_type": "markdown",
      "metadata": {
        "id": "EGjarwhea_uu"
      },
      "source": [
        "Pancake sorting is the colloquial term for the mathematical problem of sorting a disordered stack of pancakes in order of size when a spatula can be inserted at any point in the stack and used to flip all pancakes above it (See picture below) [[Wikipedia](https://en.wikipedia.org/wiki/Pancake_sorting)]."
      ]
    },
    {
      "cell_type": "markdown",
      "metadata": {
        "tags": [],
        "id": "hkk4NrrWa_uu"
      },
      "source": [
        "![Example](img/pancake.png)"
      ]
    },
    {
      "cell_type": "markdown",
      "metadata": {
        "id": "-370DZn0a_uu"
      },
      "source": [
        "### Representation of a state\n",
        "In this task you should create your own implementation of pancake sorting problem state (and all related funtions) with your own test data. Note, that the interface of the state-class must be the same as for the `GemPuzzleState` thus all the machinery introduced before (e.g. automated tests) will work out-of-the-box."
      ]
    },
    {
      "cell_type": "code",
      "execution_count": 127,
      "metadata": {
        "id": "qoK694SFa_uu"
      },
      "outputs": [],
      "source": [
        "class PancakeDish:\n",
        "    def __init__(self, pancakes: List[int]):\n",
        "        self.pancakes = pancakes\n",
        "        self.parent = None\n",
        "        self.size = len(pancakes)\n",
        "\n",
        "    def __eq__(self, other):\n",
        "        return self.pancakes == other.pancakes\n",
        "\n",
        "    def __str__(self):\n",
        "        return str(self.pancakes)[1:-1]\n",
        "\n",
        "    def __len__(self):\n",
        "      return len(self.pancakes)\n",
        "\n",
        "    def __size__(self):\n",
        "      return len(self.pancakes)"
      ]
    },
    {
      "cell_type": "code",
      "execution_count": 128,
      "metadata": {
        "id": "LhWvdnD5a_uu"
      },
      "outputs": [],
      "source": [
        "def get_successors(state: PancakeDish):\n",
        "    successors = []\n",
        "    for i in range(2, len(state.pancakes) + 1):\n",
        "        new_state = copy.deepcopy(state)\n",
        "        new_state.pancakes[0:i] = new_state.pancakes[i - 1 :: -1]\n",
        "        new_state.parent = state\n",
        "        successors.append(new_state)\n",
        "    return successors"
      ]
    },
    {
      "cell_type": "code",
      "execution_count": 129,
      "metadata": {
        "tags": [],
        "id": "j5T14IDEa_uu"
      },
      "outputs": [],
      "source": [
        "def state_is_goal(state: PancakeDish):\n",
        "    for i in range(1, len(state.pancakes)):\n",
        "        if state.pancakes[i - 1] > state.pancakes[i]:\n",
        "            return False\n",
        "    return True"
      ]
    },
    {
      "cell_type": "code",
      "execution_count": 130,
      "metadata": {
        "id": "3bGa8ybsa_uu"
      },
      "outputs": [],
      "source": [
        "def simple_test(search_function: Callable, *args, **kwargs):\n",
        "    # TODO: Create your simple test\n",
        "    start_state = PancakeDish([4, 3, 2, 1])\n",
        "    needed_state = PancakeDish([1, 2, 3, 4])\n",
        "    _run_test(search_function, start_state, needed_state, *args, **kwargs)"
      ]
    },
    {
      "cell_type": "code",
      "execution_count": 131,
      "metadata": {
        "id": "zPFV0957a_uu"
      },
      "outputs": [],
      "source": [
        "def massive_test(search_function: Callable, *args, **kwargs):\n",
        "    # Uses a custom file with at least 8 different pancake tasks\n",
        "    with open(Path(\"data/tasks_capcake.txt\")) as tasks_file:\n",
        "        print_path = kwargs.pop(\"print_path\", False)\n",
        "        for count, line in enumerate(tasks_file):\n",
        "            state = list(map(int, line.split()))\n",
        "            end_state = list(map(int, line.split()))\n",
        "            task = PancakeDish(state)\n",
        "            end_state.sort()\n",
        "            needed = PancakeDish(end_state)\n",
        "            _run_test(\n",
        "                search_function, task, needed, task_idx=count + 1, print_path=print_path, *args\n",
        "            )"
      ]
    },
    {
      "cell_type": "markdown",
      "metadata": {
        "id": "AbA4oJW2a_uu"
      },
      "source": [
        "## Lets check!"
      ]
    },
    {
      "cell_type": "code",
      "execution_count": 132,
      "metadata": {
        "tags": [],
        "colab": {
          "base_uri": "https://localhost:8080/"
        },
        "id": "NzpWuVx_a_uu",
        "outputId": "0d98e594-3a97-41c7-d424-998c01e40600"
      },
      "outputs": [
        {
          "output_type": "stream",
          "name": "stdout",
          "text": [
            "Task #0: path is OK! Path length: 2\n",
            "4, 3, 2, 1\n",
            "1, 2, 3, 4\n"
          ]
        }
      ],
      "source": [
        "simple_test(bfs)"
      ]
    },
    {
      "cell_type": "code",
      "execution_count": 133,
      "metadata": {
        "tags": [],
        "colab": {
          "base_uri": "https://localhost:8080/"
        },
        "id": "VBhbnbPFa_uu",
        "outputId": "e3fa2804-084e-4bf7-fb2d-d81cb128ee64"
      },
      "outputs": [
        {
          "output_type": "stream",
          "name": "stdout",
          "text": [
            "Task #1: path is OK! Path length: 3\n",
            "Task #2: path is OK! Path length: 3\n",
            "Task #3: path is OK! Path length: 4\n"
          ]
        }
      ],
      "source": [
        "massive_test(bfs)"
      ]
    },
    {
      "cell_type": "code",
      "execution_count": 134,
      "metadata": {
        "tags": [],
        "id": "kvzBdqp-a_uu",
        "colab": {
          "base_uri": "https://localhost:8080/"
        },
        "outputId": "4b48c502-5483-4d1b-87c9-c568c6063bbc"
      },
      "outputs": [
        {
          "output_type": "stream",
          "name": "stdout",
          "text": [
            "Task #0: execution error maximum recursion depth exceeded\n"
          ]
        }
      ],
      "source": [
        "simple_test(dfs)"
      ]
    },
    {
      "cell_type": "code",
      "execution_count": 135,
      "metadata": {
        "id": "Ry45cO6Xa_uu",
        "colab": {
          "base_uri": "https://localhost:8080/"
        },
        "outputId": "7af73059-d282-44d5-bb86-a5bfd172cae2"
      },
      "outputs": [
        {
          "output_type": "stream",
          "name": "stdout",
          "text": [
            "Task #0: path is OK! Path length: 23\n",
            "Task #1: path is OK! Path length: 82\n",
            "Task #2: path is OK! Path length: 14\n",
            "Task #3: path is OK! Path length: 6\n",
            "Task #4: path is OK! Path length: 2\n",
            "Task #5: path is OK! Path length: 2\n",
            "Task #6: path is OK! Path length: 2\n",
            "Task #7: path is OK! Path length: 35\n",
            "Task #8: path is OK! Path length: 2\n",
            "Task #9: path is OK! Path length: 11\n"
          ]
        }
      ],
      "source": [
        "for i in range(10):\n",
        "    simple_test(dfs_random, task_idx=i, print_path=False)"
      ]
    },
    {
      "cell_type": "code",
      "execution_count": 136,
      "metadata": {
        "tags": [],
        "id": "yUfKKCnba_uu",
        "colab": {
          "base_uri": "https://localhost:8080/"
        },
        "outputId": "eb665315-9c94-4435-e4a7-225377136eed"
      },
      "outputs": [
        {
          "output_type": "stream",
          "name": "stdout",
          "text": [
            "Task #0: path is OK! Path length: 2\n",
            "4, 3, 2, 1\n",
            "1, 2, 3, 4\n",
            "Task #0: path is OK! Path length: 6\n",
            "4, 3, 2, 1\n",
            "3, 4, 2, 1\n",
            "4, 3, 2, 1\n",
            "3, 4, 2, 1\n",
            "4, 3, 2, 1\n",
            "1, 2, 3, 4\n",
            "Task #0: path is OK! Path length: 10\n",
            "4, 3, 2, 1\n",
            "3, 4, 2, 1\n",
            "4, 3, 2, 1\n",
            "3, 4, 2, 1\n",
            "4, 3, 2, 1\n",
            "3, 4, 2, 1\n",
            "4, 3, 2, 1\n",
            "3, 4, 2, 1\n",
            "4, 3, 2, 1\n",
            "1, 2, 3, 4\n"
          ]
        }
      ],
      "source": [
        "simple_test(dfs_limited, 2, 0)\n",
        "simple_test(dfs_limited, 5, 0)\n",
        "simple_test(dfs_limited, 10, 0)"
      ]
    },
    {
      "cell_type": "code",
      "execution_count": 137,
      "metadata": {
        "tags": [],
        "id": "XNExYyQna_uv",
        "colab": {
          "base_uri": "https://localhost:8080/"
        },
        "outputId": "1062a182-d2fd-474a-80c1-3e54f2754a69"
      },
      "outputs": [
        {
          "output_type": "stream",
          "name": "stdout",
          "text": [
            "Task #1: path is OK! Path length: 3\n",
            "Task #2: path is OK! Path length: 3\n",
            "Task #3: path not found :(\n"
          ]
        }
      ],
      "source": [
        "massive_test(dfs_limited, 2, 0)"
      ]
    },
    {
      "cell_type": "code",
      "execution_count": 138,
      "metadata": {
        "tags": [],
        "id": "he33uEXFa_uv",
        "colab": {
          "base_uri": "https://localhost:8080/"
        },
        "outputId": "aa7fdd2e-40ec-48d2-f781-51a4c4715968"
      },
      "outputs": [
        {
          "output_type": "stream",
          "name": "stdout",
          "text": [
            "Task #1: path is OK! Path length: 5\n",
            "Task #2: path is OK! Path length: 5\n",
            "Task #3: path is OK! Path length: 6\n"
          ]
        }
      ],
      "source": [
        "massive_test(dfs_limited, 5, 0)"
      ]
    },
    {
      "cell_type": "code",
      "execution_count": 139,
      "metadata": {
        "tags": [],
        "id": "BfSnnFNka_uv",
        "colab": {
          "base_uri": "https://localhost:8080/"
        },
        "outputId": "dfe985b6-f640-4d94-c787-3fef06eef565"
      },
      "outputs": [
        {
          "output_type": "stream",
          "name": "stdout",
          "text": [
            "Task #1: path is OK! Path length: 11\n",
            "Task #2: path is OK! Path length: 11\n",
            "Task #3: path is OK! Path length: 10\n"
          ]
        }
      ],
      "source": [
        "massive_test(dfs_limited, 10, 0)"
      ]
    },
    {
      "cell_type": "code",
      "execution_count": 140,
      "metadata": {
        "tags": [],
        "id": "aP7lZyRBa_uv",
        "colab": {
          "base_uri": "https://localhost:8080/"
        },
        "outputId": "a7b05551-6ea0-4546-c9a8-64872c0dfa26"
      },
      "outputs": [
        {
          "output_type": "stream",
          "name": "stdout",
          "text": [
            "Task #0: path is OK! Path length: 2\n",
            "4, 3, 2, 1\n",
            "1, 2, 3, 4\n"
          ]
        }
      ],
      "source": [
        "simple_test(dfid)"
      ]
    },
    {
      "cell_type": "code",
      "execution_count": 141,
      "metadata": {
        "tags": [],
        "id": "Kxt5LCgSa_uv",
        "colab": {
          "base_uri": "https://localhost:8080/"
        },
        "outputId": "01bc62c1-d4f9-49ad-a329-fae82ede9acc"
      },
      "outputs": [
        {
          "output_type": "stream",
          "name": "stdout",
          "text": [
            "Task #1: path is OK! Path length: 3\n",
            "Task #2: path is OK! Path length: 3\n",
            "Task #3: path is OK! Path length: 4\n"
          ]
        }
      ],
      "source": [
        "massive_test(dfid)"
      ]
    },
    {
      "cell_type": "code",
      "source": [],
      "metadata": {
        "id": "Q2lbYLo9ZRyO"
      },
      "execution_count": null,
      "outputs": []
    }
  ],
  "metadata": {
    "kernelspec": {
      "display_name": "ml",
      "language": "python",
      "name": "python3"
    },
    "language_info": {
      "codemirror_mode": {
        "name": "ipython",
        "version": 3
      },
      "file_extension": ".py",
      "mimetype": "text/x-python",
      "name": "python",
      "nbconvert_exporter": "python",
      "pygments_lexer": "ipython3",
      "version": "3.12.3"
    },
    "colab": {
      "provenance": []
    }
  },
  "nbformat": 4,
  "nbformat_minor": 0
}